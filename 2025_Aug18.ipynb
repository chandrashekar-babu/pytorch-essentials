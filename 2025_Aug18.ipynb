{
 "cells": [
  {
   "cell_type": "code",
   "execution_count": 1,
   "id": "b39da743",
   "metadata": {},
   "outputs": [
    {
     "data": {
      "text/plain": [
       "'2.8.0'"
      ]
     },
     "execution_count": 1,
     "metadata": {},
     "output_type": "execute_result"
    }
   ],
   "source": [
    "import torch\n",
    "torch.__version__"
   ]
  },
  {
   "cell_type": "code",
   "execution_count": 2,
   "id": "08051d45",
   "metadata": {},
   "outputs": [
    {
     "data": {
      "text/plain": [
       "False"
      ]
     },
     "execution_count": 2,
     "metadata": {},
     "output_type": "execute_result"
    }
   ],
   "source": [
    "torch.cuda.is_available()"
   ]
  },
  {
   "cell_type": "code",
   "execution_count": 3,
   "id": "3905df92",
   "metadata": {},
   "outputs": [
    {
     "data": {
      "text/plain": [
       "True"
      ]
     },
     "execution_count": 3,
     "metadata": {},
     "output_type": "execute_result"
    }
   ],
   "source": [
    "torch.accelerator.is_available()"
   ]
  },
  {
   "cell_type": "code",
   "execution_count": 4,
   "id": "1576e096",
   "metadata": {},
   "outputs": [
    {
     "data": {
      "text/plain": [
       "device(type='mps')"
      ]
     },
     "execution_count": 4,
     "metadata": {},
     "output_type": "execute_result"
    }
   ],
   "source": [
    "torch.accelerator.current_accelerator()"
   ]
  },
  {
   "cell_type": "code",
   "execution_count": 6,
   "id": "a0ac9ab3",
   "metadata": {},
   "outputs": [
    {
     "data": {
      "text/plain": [
       "'mps'"
      ]
     },
     "execution_count": 6,
     "metadata": {},
     "output_type": "execute_result"
    }
   ],
   "source": [
    "torch.accelerator.current_accelerator().type"
   ]
  },
  {
   "cell_type": "code",
   "execution_count": 6,
   "id": "26853bee",
   "metadata": {},
   "outputs": [
    {
     "name": "stdout",
     "output_type": "stream",
     "text": [
      "Device:  mps\n"
     ]
    }
   ],
   "source": [
    "device = torch.accelerator.current_accelerator().type \\\n",
    "         if torch.accelerator.is_available() \\\n",
    "         else torch.device(\"cpu\")\n",
    "\n",
    "print(\"Device: \", device)"
   ]
  },
  {
   "cell_type": "code",
   "execution_count": 11,
   "id": "7e84da52",
   "metadata": {},
   "outputs": [
    {
     "name": "stdout",
     "output_type": "stream",
     "text": [
      "Device count: 1\n",
      "Device index: 0\n"
     ]
    }
   ],
   "source": [
    "# Get GPU information\n",
    "print(f\"Device count:\", torch.accelerator.device_count())\n",
    "print(f\"Device index:\", torch.accelerator.current_device_index())"
   ]
  },
  {
   "cell_type": "code",
   "execution_count": 12,
   "id": "9bf186d9",
   "metadata": {},
   "outputs": [
    {
     "data": {
      "text/plain": [
       "True"
      ]
     },
     "execution_count": 12,
     "metadata": {},
     "output_type": "execute_result"
    }
   ],
   "source": [
    "torch.mps.is_available()"
   ]
  },
  {
   "cell_type": "code",
   "execution_count": 2,
   "id": "1c8f1643",
   "metadata": {},
   "outputs": [
    {
     "name": "stdout",
     "output_type": "stream",
     "text": [
      "Max recommended GPU memory: 17,179,885,568 bytes\n"
     ]
    }
   ],
   "source": [
    "print(f\"Max recommended GPU memory: {torch.mps.recommended_max_memory():,} bytes\")"
   ]
  },
  {
   "cell_type": "code",
   "execution_count": 3,
   "id": "4ab204d0",
   "metadata": {},
   "outputs": [
    {
     "data": {
      "text/plain": [
       "0"
      ]
     },
     "execution_count": 3,
     "metadata": {},
     "output_type": "execute_result"
    }
   ],
   "source": [
    "torch.mps.current_allocated_memory()"
   ]
  },
  {
   "cell_type": "code",
   "execution_count": 4,
   "id": "aef9b830",
   "metadata": {},
   "outputs": [
    {
     "data": {
      "text/plain": [
       "475136"
      ]
     },
     "execution_count": 4,
     "metadata": {},
     "output_type": "execute_result"
    }
   ],
   "source": [
    "torch.mps.driver_allocated_memory()"
   ]
  },
  {
   "cell_type": "code",
   "execution_count": 15,
   "id": "06d59b92",
   "metadata": {},
   "outputs": [
    {
     "data": {
      "text/plain": [
       "tensor([[0.4879, 0.1235, 0.8564],\n",
       "        [0.0838, 0.0443, 0.9228],\n",
       "        [0.2166, 0.8752, 0.2758],\n",
       "        [0.3280, 0.6379, 0.6951],\n",
       "        [0.3745, 0.8950, 0.4805]])"
      ]
     },
     "execution_count": 15,
     "metadata": {},
     "output_type": "execute_result"
    }
   ],
   "source": [
    "x = torch.rand(5, 3)\n",
    "x"
   ]
  },
  {
   "cell_type": "code",
   "execution_count": 18,
   "id": "ec21bbe4",
   "metadata": {},
   "outputs": [
    {
     "data": {
      "text/plain": [
       "tensor([[0.4879, 0.1235, 0.8564],\n",
       "        [0.0838, 0.0443, 0.9228],\n",
       "        [0.2166, 0.8752, 0.2758],\n",
       "        [0.3280, 0.6379, 0.6951],\n",
       "        [0.3745, 0.8950, 0.4805]], device='mps:0')"
      ]
     },
     "execution_count": 18,
     "metadata": {},
     "output_type": "execute_result"
    }
   ],
   "source": [
    "y = x.to(device)\n",
    "y"
   ]
  },
  {
   "cell_type": "code",
   "execution_count": 19,
   "id": "873f5101",
   "metadata": {},
   "outputs": [
    {
     "data": {
      "text/plain": [
       "tensor([[0.4879, 0.1235, 0.8564],\n",
       "        [0.0838, 0.0443, 0.9228],\n",
       "        [0.2166, 0.8752, 0.2758],\n",
       "        [0.3280, 0.6379, 0.6951],\n",
       "        [0.3745, 0.8950, 0.4805]])"
      ]
     },
     "execution_count": 19,
     "metadata": {},
     "output_type": "execute_result"
    }
   ],
   "source": [
    "x"
   ]
  },
  {
   "cell_type": "code",
   "execution_count": 20,
   "id": "39406d03",
   "metadata": {},
   "outputs": [
    {
     "data": {
      "text/plain": [
       "tensor([[0.4879, 0.1235, 0.8564],\n",
       "        [0.0838, 0.0443, 0.9228],\n",
       "        [0.2166, 0.8752, 0.2758],\n",
       "        [0.3280, 0.6379, 0.6951],\n",
       "        [0.3745, 0.8950, 0.4805]], device='mps:0')"
      ]
     },
     "execution_count": 20,
     "metadata": {},
     "output_type": "execute_result"
    }
   ],
   "source": [
    "y"
   ]
  },
  {
   "cell_type": "code",
   "execution_count": 21,
   "id": "89a5b415",
   "metadata": {},
   "outputs": [],
   "source": [
    "z = y.to(\"cpu\")"
   ]
  },
  {
   "cell_type": "code",
   "execution_count": 22,
   "id": "9f62ef0a",
   "metadata": {},
   "outputs": [
    {
     "data": {
      "text/plain": [
       "tensor([[0.4879, 0.1235, 0.8564],\n",
       "        [0.0838, 0.0443, 0.9228],\n",
       "        [0.2166, 0.8752, 0.2758],\n",
       "        [0.3280, 0.6379, 0.6951],\n",
       "        [0.3745, 0.8950, 0.4805]])"
      ]
     },
     "execution_count": 22,
     "metadata": {},
     "output_type": "execute_result"
    }
   ],
   "source": [
    "z"
   ]
  },
  {
   "cell_type": "code",
   "execution_count": null,
   "id": "84368b7a",
   "metadata": {},
   "outputs": [],
   "source": [
    "x[0][0] = 100"
   ]
  },
  {
   "cell_type": "code",
   "execution_count": 24,
   "id": "2f17c2e1",
   "metadata": {},
   "outputs": [
    {
     "data": {
      "text/plain": [
       "tensor([[1.0000e+02, 1.0000e+02, 1.0000e+02],\n",
       "        [8.3838e-02, 4.4303e-02, 9.2279e-01],\n",
       "        [2.1659e-01, 8.7522e-01, 2.7584e-01],\n",
       "        [3.2798e-01, 6.3790e-01, 6.9513e-01],\n",
       "        [3.7446e-01, 8.9501e-01, 4.8045e-01]])"
      ]
     },
     "execution_count": 24,
     "metadata": {},
     "output_type": "execute_result"
    }
   ],
   "source": [
    "x"
   ]
  },
  {
   "cell_type": "code",
   "execution_count": 28,
   "id": "76b64c67",
   "metadata": {},
   "outputs": [
    {
     "data": {
      "text/plain": [
       "tensor([[0.1230, 0.1235, 0.8564],\n",
       "        [0.0838, 0.0443, 0.9228],\n",
       "        [0.2166, 0.8752, 0.2758],\n",
       "        [0.3280, 0.6379, 0.6951],\n",
       "        [0.3745, 0.8950, 0.4805]], device='mps:0')"
      ]
     },
     "execution_count": 28,
     "metadata": {},
     "output_type": "execute_result"
    }
   ],
   "source": [
    "y"
   ]
  },
  {
   "cell_type": "code",
   "execution_count": 27,
   "id": "eadf7eaf",
   "metadata": {},
   "outputs": [],
   "source": [
    "y[0, 0] = .123"
   ]
  },
  {
   "cell_type": "code",
   "execution_count": 29,
   "id": "837fccd5",
   "metadata": {},
   "outputs": [
    {
     "data": {
      "text/plain": [
       "tensor([[0.4879, 0.1235, 0.8564],\n",
       "        [0.0838, 0.0443, 0.9228],\n",
       "        [0.2166, 0.8752, 0.2758],\n",
       "        [0.3280, 0.6379, 0.6951],\n",
       "        [0.3745, 0.8950, 0.4805]])"
      ]
     },
     "execution_count": 29,
     "metadata": {},
     "output_type": "execute_result"
    }
   ],
   "source": [
    "z"
   ]
  },
  {
   "cell_type": "code",
   "execution_count": 30,
   "id": "899dd48d",
   "metadata": {},
   "outputs": [],
   "source": [
    "import numpy as np"
   ]
  },
  {
   "cell_type": "code",
   "execution_count": 33,
   "id": "5960bc1f",
   "metadata": {},
   "outputs": [
    {
     "data": {
      "text/plain": [
       "array([[0.48959687, 0.90414549, 0.47842575],\n",
       "       [0.21852651, 0.49512802, 0.27145411],\n",
       "       [0.76367828, 0.2861526 , 0.02798613],\n",
       "       [0.57723431, 0.30253119, 0.33724654],\n",
       "       [0.87146748, 0.84062817, 0.38788825]])"
      ]
     },
     "execution_count": 33,
     "metadata": {},
     "output_type": "execute_result"
    }
   ],
   "source": [
    "a = np.random.rand(5, 3)\n",
    "a"
   ]
  },
  {
   "cell_type": "code",
   "execution_count": 35,
   "id": "8ea56ceb",
   "metadata": {},
   "outputs": [
    {
     "data": {
      "text/plain": [
       "tensor([[1.0000e+02, 1.0000e+02, 1.0000e+02],\n",
       "        [8.3838e-02, 4.4303e-02, 9.2279e-01],\n",
       "        [2.1659e-01, 8.7522e-01, 2.7584e-01],\n",
       "        [3.2798e-01, 6.3790e-01, 6.9513e-01],\n",
       "        [3.7446e-01, 8.9501e-01, 4.8045e-01]], device='mps:0')"
      ]
     },
     "execution_count": 35,
     "metadata": {},
     "output_type": "execute_result"
    }
   ],
   "source": [
    "x.to(device)"
   ]
  },
  {
   "cell_type": "code",
   "execution_count": 40,
   "id": "78c5ec4b",
   "metadata": {},
   "outputs": [
    {
     "data": {
      "text/plain": [
       "True"
      ]
     },
     "execution_count": 40,
     "metadata": {},
     "output_type": "execute_result"
    }
   ],
   "source": [
    "x.is_contiguous()"
   ]
  },
  {
   "cell_type": "code",
   "execution_count": 37,
   "id": "fe758a94",
   "metadata": {},
   "outputs": [
    {
     "data": {
      "text/plain": [
       "False"
      ]
     },
     "execution_count": 37,
     "metadata": {},
     "output_type": "execute_result"
    }
   ],
   "source": [
    "x1 = x.T\n",
    "x1.is_contiguous()"
   ]
  },
  {
   "cell_type": "code",
   "execution_count": 38,
   "id": "536024ea",
   "metadata": {},
   "outputs": [
    {
     "data": {
      "text/plain": [
       "tensor([[1.0000e+02, 8.3838e-02, 2.1659e-01, 3.2798e-01, 3.7446e-01],\n",
       "        [1.0000e+02, 4.4303e-02, 8.7522e-01, 6.3790e-01, 8.9501e-01],\n",
       "        [1.0000e+02, 9.2279e-01, 2.7584e-01, 6.9513e-01, 4.8045e-01]],\n",
       "       device='mps:0')"
      ]
     },
     "execution_count": 38,
     "metadata": {},
     "output_type": "execute_result"
    }
   ],
   "source": [
    "x1.to(device)"
   ]
  },
  {
   "cell_type": "code",
   "execution_count": 45,
   "id": "d4c0f9a3",
   "metadata": {},
   "outputs": [
    {
     "name": "stdout",
     "output_type": "stream",
     "text": [
      "tensor(10) 0 torch.Size([])\n"
     ]
    }
   ],
   "source": [
    "# Scalars are 0-d tensors\n",
    "s = torch.tensor(10)\n",
    "print(s, s.ndim, s.shape)\n"
   ]
  },
  {
   "cell_type": "code",
   "execution_count": 46,
   "id": "7fcf4381",
   "metadata": {},
   "outputs": [
    {
     "name": "stdout",
     "output_type": "stream",
     "text": [
      "tensor([1, 2, 3]) 1 torch.Size([3])\n"
     ]
    }
   ],
   "source": [
    "# Vectors are 1-d tensors\n",
    "\n",
    "vector = torch.tensor([1, 2, 3])\n",
    "print(vector, vector.ndim, vector.shape)\n"
   ]
  },
  {
   "cell_type": "code",
   "execution_count": 47,
   "id": "3a171402",
   "metadata": {},
   "outputs": [
    {
     "name": "stdout",
     "output_type": "stream",
     "text": [
      "tensor([[1, 2, 3],\n",
      "        [4, 5, 6]]) 2 torch.Size([2, 3])\n"
     ]
    }
   ],
   "source": [
    "# Matrices are 2-d tensors\n",
    "matrix = torch.tensor([[1, 2, 3], [4, 5, 6]])\n",
    "print(matrix, matrix.ndim, matrix.shape)\n"
   ]
  },
  {
   "cell_type": "code",
   "execution_count": 48,
   "id": "a3ab6f40",
   "metadata": {},
   "outputs": [
    {
     "name": "stdout",
     "output_type": "stream",
     "text": [
      "tensor([[[1, 2],\n",
      "         [3, 4]],\n",
      "\n",
      "        [[5, 6],\n",
      "         [7, 8]]]) 3 torch.Size([2, 2, 2])\n"
     ]
    }
   ],
   "source": [
    "# Tensors are n-dimensional arrays\n",
    "tensor = torch.tensor([[[1, 2], [3, 4]], [[5, 6], [7, 8]]])\n",
    "print(tensor, tensor.ndim, tensor.shape)\n"
   ]
  },
  {
   "cell_type": "code",
   "execution_count": 50,
   "id": "94686fb0",
   "metadata": {},
   "outputs": [
    {
     "data": {
      "text/plain": [
       "tensor([[0.2003, 0.6320, 0.3145, 0.7126, 0.1412],\n",
       "        [0.7043, 0.9331, 0.2802, 0.6569, 0.6038],\n",
       "        [0.0305, 0.2659, 0.9701, 0.6315, 0.0512],\n",
       "        [0.2823, 0.7436, 0.8682, 0.1662, 0.0302],\n",
       "        [0.3783, 0.0392, 0.2951, 0.8836, 0.9593]])"
      ]
     },
     "execution_count": 50,
     "metadata": {},
     "output_type": "execute_result"
    }
   ],
   "source": [
    "r = torch.rand(5, 5)\n",
    "r"
   ]
  },
  {
   "cell_type": "code",
   "execution_count": 54,
   "id": "b92e1881",
   "metadata": {},
   "outputs": [
    {
     "data": {
      "text/plain": [
       "tensor([[1., 1., 1., 1., 1.],\n",
       "        [1., 1., 1., 1., 1.],\n",
       "        [1., 1., 1., 1., 1.],\n",
       "        [1., 1., 1., 1., 1.],\n",
       "        [1., 1., 1., 1., 1.]])"
      ]
     },
     "execution_count": 54,
     "metadata": {},
     "output_type": "execute_result"
    }
   ],
   "source": [
    "o = torch.ones(5, 5)\n",
    "o"
   ]
  },
  {
   "cell_type": "code",
   "execution_count": 55,
   "id": "75f205aa",
   "metadata": {},
   "outputs": [],
   "source": [
    "del o"
   ]
  },
  {
   "cell_type": "code",
   "execution_count": 56,
   "id": "cffd9b46",
   "metadata": {},
   "outputs": [
    {
     "data": {
      "text/plain": [
       "tensor([[0., 0., 0., 0., 0.],\n",
       "        [0., 0., 0., 0., 0.],\n",
       "        [0., 0., 0., 0., 0.],\n",
       "        [0., 0., 0., 0., 0.],\n",
       "        [0., 0., 0., 0., 0.]])"
      ]
     },
     "execution_count": 56,
     "metadata": {},
     "output_type": "execute_result"
    }
   ],
   "source": [
    "a = torch.empty(5, 5)\n",
    "a"
   ]
  },
  {
   "cell_type": "code",
   "execution_count": 65,
   "id": "a77bc8ce",
   "metadata": {},
   "outputs": [
    {
     "name": "stdout",
     "output_type": "stream",
     "text": [
      "torch.Size([5, 5]) torch.Size([5, 5])\n",
      "torch.float32\n",
      "25\n",
      "4\n",
      "cpu\n",
      "True\n",
      "False\n"
     ]
    }
   ],
   "source": [
    "print(a.shape, a.size())\n",
    "print(a.dtype)\n",
    "print(a.numel())\n",
    "print(a.element_size())\n",
    "print(a.device)\n",
    "print(a.is_contiguous())\n",
    "print(a.requires_grad)"
   ]
  },
  {
   "cell_type": "code",
   "execution_count": null,
   "id": "6b331cd4",
   "metadata": {},
   "outputs": [],
   "source": [
    "a."
   ]
  },
  {
   "cell_type": "code",
   "execution_count": 70,
   "id": "dd1da1e2",
   "metadata": {},
   "outputs": [
    {
     "name": "stdout",
     "output_type": "stream",
     "text": [
      "tensor(10) 5054053616\n",
      "tensor(10) tensor(11) 5054053616 4976235120\n",
      "tensor(11) tensor(11) 5054053616 5054053616\n"
     ]
    }
   ],
   "source": [
    "a = torch.tensor(10)\n",
    "print(a, id(a))\n",
    "b = a.add(1)\n",
    "print(a, b, id(a), id(b))\n",
    "b = a.add_(1)  # In-place operation\n",
    "print(a, b, id(a), id(b))"
   ]
  },
  {
   "cell_type": "code",
   "execution_count": 75,
   "id": "b2d3c40b",
   "metadata": {},
   "outputs": [
    {
     "name": "stdout",
     "output_type": "stream",
     "text": [
      "tensor([[ 0,  1,  2,  3,  4],\n",
      "        [ 5,  6,  7,  8,  9],\n",
      "        [10, 11, 12, 13, 14],\n",
      "        [15, 16, 17, 18, 19],\n",
      "        [20, 21, 22, 23, 24]]) True\n"
     ]
    },
    {
     "data": {
      "text/plain": [
       "tensor([ 0,  1,  2,  3,  4,  5,  6,  7,  8,  9, 10, 11, 12, 13, 14, 15, 16, 17,\n",
       "        18, 19, 20, 21, 22, 23, 24])"
      ]
     },
     "execution_count": 75,
     "metadata": {},
     "output_type": "execute_result"
    }
   ],
   "source": [
    "a = torch.arange(25).reshape(5, 5)\n",
    "print(a, a.is_contiguous())\n",
    "\n",
    "a.view(-1)"
   ]
  },
  {
   "cell_type": "code",
   "execution_count": 77,
   "id": "4c81abe8",
   "metadata": {},
   "outputs": [
    {
     "name": "stdout",
     "output_type": "stream",
     "text": [
      "tensor([[ 0,  5, 10, 15, 20],\n",
      "        [ 1,  6, 11, 16, 21],\n",
      "        [ 2,  7, 12, 17, 22],\n",
      "        [ 3,  8, 13, 18, 23],\n",
      "        [ 4,  9, 14, 19, 24]]) False\n"
     ]
    },
    {
     "ename": "RuntimeError",
     "evalue": "view size is not compatible with input tensor's size and stride (at least one dimension spans across two contiguous subspaces). Use .reshape(...) instead.",
     "output_type": "error",
     "traceback": [
      "\u001b[31m---------------------------------------------------------------------------\u001b[39m",
      "\u001b[31mRuntimeError\u001b[39m                              Traceback (most recent call last)",
      "\u001b[36mCell\u001b[39m\u001b[36m \u001b[39m\u001b[32mIn[77]\u001b[39m\u001b[32m, line 3\u001b[39m\n\u001b[32m      1\u001b[39m b = a.T\n\u001b[32m      2\u001b[39m \u001b[38;5;28mprint\u001b[39m(b, b.is_contiguous())\n\u001b[32m----> \u001b[39m\u001b[32m3\u001b[39m \u001b[43mb\u001b[49m\u001b[43m.\u001b[49m\u001b[43mview\u001b[49m\u001b[43m(\u001b[49m\u001b[43m-\u001b[49m\u001b[32;43m1\u001b[39;49m\u001b[43m)\u001b[49m\n",
      "\u001b[31mRuntimeError\u001b[39m: view size is not compatible with input tensor's size and stride (at least one dimension spans across two contiguous subspaces). Use .reshape(...) instead."
     ]
    }
   ],
   "source": [
    "b = a.T\n",
    "print(b, b.is_contiguous())\n",
    "b.view(-1)"
   ]
  },
  {
   "cell_type": "code",
   "execution_count": 78,
   "id": "41e427a6",
   "metadata": {},
   "outputs": [
    {
     "name": "stdout",
     "output_type": "stream",
     "text": [
      "tensor([[ 0,  5, 10, 15, 20],\n",
      "        [ 1,  6, 11, 16, 21],\n",
      "        [ 2,  7, 12, 17, 22],\n",
      "        [ 3,  8, 13, 18, 23],\n",
      "        [ 4,  9, 14, 19, 24]]) True\n",
      "tensor([ 0,  5, 10, 15, 20,  1,  6, 11, 16, 21,  2,  7, 12, 17, 22,  3,  8, 13,\n",
      "        18, 23,  4,  9, 14, 19, 24])\n"
     ]
    }
   ],
   "source": [
    "c = b.contiguous()\n",
    "print(c, c.is_contiguous())\n",
    "print(c.view(-1))"
   ]
  },
  {
   "cell_type": "code",
   "execution_count": 87,
   "id": "d2ea21fa",
   "metadata": {},
   "outputs": [
    {
     "name": "stdout",
     "output_type": "stream",
     "text": [
      "tensor([33, 12, 67, 89, 43, 12, 86, 18, 24, 27, 23, 15,  9, 78])\n",
      "tensor(33) tensor([12, 67, 89, 43]) tensor(78)\n",
      "tensor([12, 67, 43, 86, 18, 27, 15, 78])\n",
      "tensor([67, 12, 33, 89, 24])\n",
      "tensor([False,  True, False, False, False,  True, False,  True, False, False,\n",
      "        False,  True,  True, False])\n",
      "tensor([12, 12, 18, 15,  9])\n"
     ]
    }
   ],
   "source": [
    "a = torch.tensor([33, 12, 67, 89, 43, 12, 86, 18, 24, 27, 23, 15, 9, 78])\n",
    "print(a)\n",
    "print(a[0], a[1:5], a[-1])\n",
    "print(a[[False, True, True, False, True, False, True, True, False, True, False, True, False, True]])\n",
    "print(a[[2, 1, 0, 3, 8]])\n",
    "\n",
    "print(a < 20)\n",
    "print(a[a < 20])"
   ]
  },
  {
   "cell_type": "code",
   "execution_count": 88,
   "id": "0efb79f2",
   "metadata": {},
   "outputs": [
    {
     "data": {
      "text/plain": [
       "tensor([0, 1, 2, 3, 4, 5, 6, 7, 8, 9])"
      ]
     },
     "execution_count": 88,
     "metadata": {},
     "output_type": "execute_result"
    }
   ],
   "source": [
    "a = torch.arange(10)\n",
    "a"
   ]
  },
  {
   "cell_type": "code",
   "execution_count": 91,
   "id": "21918d2d",
   "metadata": {},
   "outputs": [
    {
     "name": "stdout",
     "output_type": "stream",
     "text": [
      "[0, 1, 2, 3, 4, 5, 6, 7, 8, 9]\n",
      "[5, 6, 7, 8, 9, 10, 11, 12, 13, 14]\n"
     ]
    }
   ],
   "source": [
    "n = list(range(10))\n",
    "print(n)\n",
    "#n + 5\n",
    "print([x + 5 for x in n])"
   ]
  },
  {
   "cell_type": "code",
   "execution_count": 92,
   "id": "fddf0ceb",
   "metadata": {},
   "outputs": [
    {
     "name": "stdout",
     "output_type": "stream",
     "text": [
      "tensor([0, 1, 2, 3, 4, 5, 6, 7, 8, 9])\n"
     ]
    },
    {
     "data": {
      "text/plain": [
       "tensor([ 5,  6,  7,  8,  9, 10, 11, 12, 13, 14])"
      ]
     },
     "execution_count": 92,
     "metadata": {},
     "output_type": "execute_result"
    }
   ],
   "source": [
    "print(a)\n",
    "a + 5"
   ]
  },
  {
   "cell_type": "code",
   "execution_count": 104,
   "id": "c21688b4",
   "metadata": {},
   "outputs": [
    {
     "name": "stdout",
     "output_type": "stream",
     "text": [
      "tensor([[0],\n",
      "        [1],\n",
      "        [2],\n",
      "        [3],\n",
      "        [4],\n",
      "        [5],\n",
      "        [6],\n",
      "        [7],\n",
      "        [8],\n",
      "        [9]]) torch.Size([10, 1])\n"
     ]
    }
   ],
   "source": [
    "b = a.reshape(10, 1)\n",
    "print(b, b.shape)"
   ]
  },
  {
   "cell_type": "code",
   "execution_count": 105,
   "id": "d2026f61",
   "metadata": {},
   "outputs": [
    {
     "data": {
      "text/plain": [
       "tensor([[ 0,  1,  2,  3,  4,  5,  6,  7,  8,  9],\n",
       "        [ 1,  2,  3,  4,  5,  6,  7,  8,  9, 10],\n",
       "        [ 2,  3,  4,  5,  6,  7,  8,  9, 10, 11],\n",
       "        [ 3,  4,  5,  6,  7,  8,  9, 10, 11, 12],\n",
       "        [ 4,  5,  6,  7,  8,  9, 10, 11, 12, 13],\n",
       "        [ 5,  6,  7,  8,  9, 10, 11, 12, 13, 14],\n",
       "        [ 6,  7,  8,  9, 10, 11, 12, 13, 14, 15],\n",
       "        [ 7,  8,  9, 10, 11, 12, 13, 14, 15, 16],\n",
       "        [ 8,  9, 10, 11, 12, 13, 14, 15, 16, 17],\n",
       "        [ 9, 10, 11, 12, 13, 14, 15, 16, 17, 18]])"
      ]
     },
     "execution_count": 105,
     "metadata": {},
     "output_type": "execute_result"
    }
   ],
   "source": [
    "a + b"
   ]
  },
  {
   "cell_type": "code",
   "execution_count": 111,
   "id": "aac53905",
   "metadata": {},
   "outputs": [
    {
     "data": {
      "text/plain": [
       "tensor([      0,       2,       4,  ..., 1999994, 1999996, 1999998])"
      ]
     },
     "execution_count": 111,
     "metadata": {},
     "output_type": "execute_result"
    }
   ],
   "source": [
    "a = torch.arange(1_000_000)\n",
    "a * 2"
   ]
  },
  {
   "cell_type": "code",
   "execution_count": 112,
   "id": "9eebd38f",
   "metadata": {},
   "outputs": [
    {
     "name": "stdout",
     "output_type": "stream",
     "text": [
      "278 μs ± 1.77 μs per loop (mean ± std. dev. of 7 runs, 1,000 loops each)\n"
     ]
    }
   ],
   "source": [
    "%timeit a * 2"
   ]
  },
  {
   "cell_type": "code",
   "execution_count": 113,
   "id": "26d1fa19",
   "metadata": {},
   "outputs": [
    {
     "data": {
      "text/plain": [
       "tensor([     0,      1,      2,  ..., 999997, 999998, 999999], device='mps:0')"
      ]
     },
     "execution_count": 113,
     "metadata": {},
     "output_type": "execute_result"
    }
   ],
   "source": [
    "b = a.to(device)\n",
    "b"
   ]
  },
  {
   "cell_type": "code",
   "execution_count": 114,
   "id": "e1de8f9f",
   "metadata": {},
   "outputs": [
    {
     "name": "stdout",
     "output_type": "stream",
     "text": [
      "1.3 μs ± 41.2 ns per loop (mean ± std. dev. of 7 runs, 1,000,000 loops each)\n"
     ]
    }
   ],
   "source": [
    "%timeit b * 2"
   ]
  },
  {
   "cell_type": "code",
   "execution_count": 115,
   "id": "a85b3306",
   "metadata": {},
   "outputs": [
    {
     "data": {
      "text/plain": [
       "6220800"
      ]
     },
     "execution_count": 115,
     "metadata": {},
     "output_type": "execute_result"
    }
   ],
   "source": [
    "1920 * 1080 * 3"
   ]
  },
  {
   "cell_type": "code",
   "execution_count": 116,
   "id": "67dc9716",
   "metadata": {},
   "outputs": [],
   "source": [
    "del b"
   ]
  },
  {
   "cell_type": "code",
   "execution_count": 7,
   "id": "724130b2",
   "metadata": {},
   "outputs": [
    {
     "name": "stdout",
     "output_type": "stream",
     "text": [
      "tensor([10, 11, 12, 13, 14, 15, 16, 17, 18, 19]) tensor([20, 21, 22, 23, 24, 25, 26, 27, 28, 29], device='mps:0')\n"
     ]
    }
   ],
   "source": [
    "a = torch.arange(10, 20)\n",
    "b = torch.arange(20, 30, device=device)\n",
    "print(a, b)"
   ]
  },
  {
   "cell_type": "code",
   "execution_count": 8,
   "id": "1ba0a051",
   "metadata": {},
   "outputs": [
    {
     "ename": "RuntimeError",
     "evalue": "Expected all tensors to be on the same device, but found at least two devices, mps:0 and cpu!",
     "output_type": "error",
     "traceback": [
      "\u001b[31m---------------------------------------------------------------------------\u001b[39m",
      "\u001b[31mRuntimeError\u001b[39m                              Traceback (most recent call last)",
      "\u001b[36mCell\u001b[39m\u001b[36m \u001b[39m\u001b[32mIn[8]\u001b[39m\u001b[32m, line 1\u001b[39m\n\u001b[32m----> \u001b[39m\u001b[32m1\u001b[39m \u001b[43ma\u001b[49m\u001b[43m \u001b[49m\u001b[43m+\u001b[49m\u001b[43m \u001b[49m\u001b[43mb\u001b[49m\n",
      "\u001b[31mRuntimeError\u001b[39m: Expected all tensors to be on the same device, but found at least two devices, mps:0 and cpu!"
     ]
    }
   ],
   "source": [
    "a + b"
   ]
  },
  {
   "cell_type": "code",
   "execution_count": 9,
   "id": "d3b17be8",
   "metadata": {},
   "outputs": [
    {
     "data": {
      "text/plain": [
       "tensor([30, 32, 34, 36, 38, 40, 42, 44, 46, 48], device='mps:0')"
      ]
     },
     "execution_count": 9,
     "metadata": {},
     "output_type": "execute_result"
    }
   ],
   "source": [
    "a.to(device) + b"
   ]
  },
  {
   "cell_type": "code",
   "execution_count": 19,
   "id": "2a1f5a96",
   "metadata": {},
   "outputs": [
    {
     "name": "stdout",
     "output_type": "stream",
     "text": [
      "[1 2 3] <class 'numpy.ndarray'>\n",
      "tensor([1, 2, 3]) <class 'torch.Tensor'>\n",
      "tensor([1, 2, 3]) <class 'torch.Tensor'>\n",
      "[10  2  3] tensor([10,  2,  3]) tensor([1, 2, 3])\n",
      "[15  2  3] tensor([15,  2,  3]) tensor([1, 2, 3]) tensor([10,  2,  3], device='mps:0')\n"
     ]
    }
   ],
   "source": [
    "import numpy as np\n",
    "a = np.array([1, 2, 3])\n",
    "print(a, type(a))\n",
    "\n",
    "# Creates a new tensor - but shares the same underlying buffer of numpy\n",
    "b = torch.from_numpy(a)  \n",
    "print(b, type(b))\n",
    "\n",
    "c = torch.tensor(a)\n",
    "print(c, type(c))\n",
    "\n",
    "a[0] = 10\n",
    "print(a, b, c)\n",
    "\n",
    "d = b.to(device)\n",
    "a[0] += 5\n",
    "print(a, b, c, d)\n"
   ]
  },
  {
   "cell_type": "code",
   "execution_count": 23,
   "id": "9482d81c",
   "metadata": {},
   "outputs": [
    {
     "name": "stdout",
     "output_type": "stream",
     "text": [
      "tensor([15,  2,  3]) [15  2  3]\n",
      "tensor([16,  2,  3]) [16  2  3]\n"
     ]
    }
   ],
   "source": [
    "e = b.numpy()\n",
    "print(b, e)\n",
    "e[0] += 1\n",
    "print(b, e)"
   ]
  },
  {
   "cell_type": "code",
   "execution_count": 24,
   "id": "a69bb8c9",
   "metadata": {},
   "outputs": [
    {
     "name": "stdout",
     "output_type": "stream",
     "text": [
      "tensor([[1, 2, 3]]) torch.Size([1, 3]) 2\n"
     ]
    }
   ],
   "source": [
    "t = torch.tensor([[1, 2, 3]])\n",
    "print(t, t.shape, t.ndim)"
   ]
  },
  {
   "cell_type": "code",
   "execution_count": 26,
   "id": "c0ce9b40",
   "metadata": {},
   "outputs": [
    {
     "name": "stdout",
     "output_type": "stream",
     "text": [
      "tensor([1, 2, 3]) torch.Size([3]) 1\n"
     ]
    }
   ],
   "source": [
    "t1 = t.squeeze()\n",
    "print(t1, t1.shape, t1.ndim)"
   ]
  },
  {
   "cell_type": "code",
   "execution_count": null,
   "id": "59b78801",
   "metadata": {},
   "outputs": [
    {
     "name": "stdout",
     "output_type": "stream",
     "text": [
      "tensor([[1, 2, 3]]) torch.Size([1, 3])\n",
      "tensor([[1],\n",
      "        [2],\n",
      "        [3]]) torch.Size([3, 1])\n"
     ]
    }
   ],
   "source": [
    "t2 = t1.(unsqueeze0)\n",
    "print(t2, t2.shape)\n",
    "\n",
    "t2 = t1.unsqueeze(1)\n",
    "print(t2, t2.shape)\n"
   ]
  },
  {
   "cell_type": "code",
   "execution_count": null,
   "id": "d41b1d3d",
   "metadata": {},
   "outputs": [
    {
     "data": {
      "text/plain": [
       "array([[1, 2, 3, 4]])"
      ]
     },
     "execution_count": 35,
     "metadata": {},
     "output_type": "execute_result"
    }
   ],
   "source": [
    "a = np.array([1, 2, 3, 4])\n",
    "print(a.reshape(-1, 1))\n",
    "print(a.reshape(1, -1))\n"
   ]
  },
  {
   "cell_type": "code",
   "execution_count": 37,
   "id": "4b245f37",
   "metadata": {},
   "outputs": [
    {
     "data": {
      "text/plain": [
       "tensor(30)"
      ]
     },
     "execution_count": 37,
     "metadata": {},
     "output_type": "execute_result"
    }
   ],
   "source": [
    "a = torch.tensor(10)\n",
    "b = torch.tensor(20)\n",
    "a + b\n",
    "a.add_(b)"
   ]
  },
  {
   "cell_type": "code",
   "execution_count": 38,
   "id": "d95b5790",
   "metadata": {},
   "outputs": [
    {
     "data": {
      "text/plain": [
       "tensor(30)"
      ]
     },
     "execution_count": 38,
     "metadata": {},
     "output_type": "execute_result"
    }
   ],
   "source": [
    "a"
   ]
  },
  {
   "cell_type": "code",
   "execution_count": 39,
   "id": "de98ebf2",
   "metadata": {},
   "outputs": [
    {
     "data": {
      "text/plain": [
       "tensor(50)"
      ]
     },
     "execution_count": 39,
     "metadata": {},
     "output_type": "execute_result"
    }
   ],
   "source": [
    "torch.add(a, b)"
   ]
  },
  {
   "cell_type": "code",
   "execution_count": 41,
   "id": "2b0af405",
   "metadata": {},
   "outputs": [
    {
     "name": "stdout",
     "output_type": "stream",
     "text": [
      "tensor([[[10, 20],\n",
      "         [30, 40]],\n",
      "\n",
      "        [[50, 60],\n",
      "         [70, 80]]]) torch.Size([2, 2, 2])\n"
     ]
    }
   ],
   "source": [
    "a = torch.tensor([[[10, 20], [30, 40]], [[50, 60], [70, 80]]])\n",
    "print(a, a.shape)"
   ]
  },
  {
   "cell_type": "code",
   "execution_count": 45,
   "id": "eac0586a",
   "metadata": {},
   "outputs": [
    {
     "name": "stdout",
     "output_type": "stream",
     "text": [
      "tensor([ 10,  20, 100,  40,  50,  60,  70,  80]) torch.Size([8])\n",
      "tensor([[[ 10,  20],\n",
      "         [100,  40]],\n",
      "\n",
      "        [[ 50,  60],\n",
      "         [ 70,  80]]]) torch.Size([2, 2, 2])\n",
      "tensor([[[ 10,  20],\n",
      "         [100,  40]],\n",
      "\n",
      "        [[ 50,  60],\n",
      "         [ 70,  80]]])\n",
      "tensor([ 10,  20, 100,  40,  50,  60,  70,  80])\n"
     ]
    }
   ],
   "source": [
    "b = a.flatten()\n",
    "print(b, b.shape)\n",
    "print(a, a.shape)\n",
    "\n",
    "a[0, 1, 0] = 100\n",
    "print(a, b, sep=\"\\n\")"
   ]
  },
  {
   "cell_type": "code",
   "execution_count": 59,
   "id": "a470bf90",
   "metadata": {},
   "outputs": [
    {
     "name": "stdout",
     "output_type": "stream",
     "text": [
      "tensor(4., requires_grad=True) True\n",
      "tensor(64., grad_fn=<PowBackward0>) True\n",
      "tensor(70., grad_fn=<AddBackward0>) True\n",
      "None\n",
      "tensor(48.)\n"
     ]
    }
   ],
   "source": [
    "x = torch.tensor(4, requires_grad=True, dtype=torch.float32)\n",
    "print(x, x.requires_grad)\n",
    "\n",
    "y = x ** 3\n",
    "print(y, y.requires_grad)\n",
    "\n",
    "z = y + 6\n",
    "print(z, z.requires_grad)\n",
    "print(x.grad)\n",
    "\n",
    "z.backward()\n",
    "print(x.grad)"
   ]
  },
  {
   "cell_type": "code",
   "execution_count": 60,
   "id": "49cf23eb",
   "metadata": {},
   "outputs": [
    {
     "name": "stdout",
     "output_type": "stream",
     "text": [
      "weights=tensor([1., 1., 1., 1.], requires_grad=True)\n",
      "weights.grad=tensor([3., 3., 3., 3.])\n",
      "----------------------------------------\n",
      "weights=tensor([1., 1., 1., 1.], requires_grad=True)\n",
      "weights.grad=tensor([6., 6., 6., 6.])\n",
      "----------------------------------------\n",
      "weights=tensor([1., 1., 1., 1.], requires_grad=True)\n",
      "weights.grad=tensor([9., 9., 9., 9.])\n",
      "----------------------------------------\n",
      "weights=tensor([1., 1., 1., 1.], requires_grad=True)\n",
      "weights.grad=tensor([12., 12., 12., 12.])\n",
      "----------------------------------------\n",
      "weights=tensor([1., 1., 1., 1.], requires_grad=True)\n",
      "weights.grad=tensor([15., 15., 15., 15.])\n",
      "----------------------------------------\n"
     ]
    }
   ],
   "source": [
    "# An example of gradient accumulation (not desired in this scenario)\n",
    "weights = torch.ones(4, requires_grad=True)\n",
    "\n",
    "for epoch in range(5):\n",
    "    model_output = (weights * 3).sum()\n",
    "\n",
    "    model_output.backward()\n",
    "    print(f\"{weights=}\")\n",
    "    print(f\"{weights.grad=}\")\n",
    "    print(\"-\" * 40)"
   ]
  },
  {
   "cell_type": "code",
   "execution_count": 62,
   "id": "9bfe0556",
   "metadata": {},
   "outputs": [
    {
     "name": "stdout",
     "output_type": "stream",
     "text": [
      "weights=tensor([1., 1., 1., 1.], requires_grad=True)\n",
      "weights.grad=tensor([3., 3., 3., 3.])\n",
      "----------------------------------------\n",
      "weights=tensor([1., 1., 1., 1.], requires_grad=True)\n",
      "weights.grad=tensor([3., 3., 3., 3.])\n",
      "----------------------------------------\n",
      "weights=tensor([1., 1., 1., 1.], requires_grad=True)\n",
      "weights.grad=tensor([3., 3., 3., 3.])\n",
      "----------------------------------------\n",
      "weights=tensor([1., 1., 1., 1.], requires_grad=True)\n",
      "weights.grad=tensor([3., 3., 3., 3.])\n",
      "----------------------------------------\n",
      "weights=tensor([1., 1., 1., 1.], requires_grad=True)\n",
      "weights.grad=tensor([3., 3., 3., 3.])\n",
      "----------------------------------------\n"
     ]
    }
   ],
   "source": [
    "# An example of gradient accumulation (not desired in this scenario)\n",
    "weights = torch.ones(4, requires_grad=True)\n",
    "\n",
    "for epoch in range(5):\n",
    "    model_output = (weights * 3).sum()\n",
    "\n",
    "    model_output.backward()\n",
    "    print(f\"{weights=}\")\n",
    "    print(f\"{weights.grad=}\")\n",
    "    print(\"-\" * 40)\n",
    "    weights.grad.zero_()  # Reset gradients after each epoch"
   ]
  },
  {
   "cell_type": "code",
   "execution_count": 72,
   "id": "4f97e33d",
   "metadata": {},
   "outputs": [
    {
     "name": "stdout",
     "output_type": "stream",
     "text": [
      "tensor(16., grad_fn=<PowBackward0>) True\n",
      "None\n"
     ]
    }
   ],
   "source": [
    "x = torch.tensor(4, requires_grad=True, dtype=torch.float32)\n",
    "y = x ** 2\n",
    "\n",
    "print(y, y.requires_grad)\n",
    "print(x.grad)"
   ]
  },
  {
   "cell_type": "code",
   "execution_count": 73,
   "id": "803a02cd",
   "metadata": {},
   "outputs": [
    {
     "name": "stdout",
     "output_type": "stream",
     "text": [
      "tensor(16.) False\n",
      "None\n"
     ]
    }
   ],
   "source": [
    "x = torch.tensor(4, requires_grad=True, dtype=torch.float32)\n",
    "with torch.no_grad():\n",
    "    y = x ** 2\n",
    "\n",
    "print(y, y.requires_grad)\n",
    "print(x.grad)"
   ]
  },
  {
   "cell_type": "code",
   "execution_count": 79,
   "id": "0a698463",
   "metadata": {},
   "outputs": [
    {
     "name": "stdout",
     "output_type": "stream",
     "text": [
      "tensor(16., grad_fn=<PowBackward0>) True\n",
      "tensor(64., grad_fn=<PowBackward0>) True\n",
      "None\n",
      "tensor(8.)\n",
      "tensor(56.)\n"
     ]
    }
   ],
   "source": [
    "x = torch.tensor(4, requires_grad=True, dtype=torch.float32)\n",
    "y = x ** 2\n",
    "z = x ** 3\n",
    "\n",
    "print(y, y.requires_grad)\n",
    "print(z, z.requires_grad)\n",
    "print(x.grad)\n",
    "\n",
    "y.backward()\n",
    "print(x.grad)\n",
    "\n",
    "z.backward()\n",
    "print(x.grad)"
   ]
  },
  {
   "cell_type": "code",
   "execution_count": 81,
   "id": "8fd50887",
   "metadata": {},
   "outputs": [
    {
     "name": "stdout",
     "output_type": "stream",
     "text": [
      "tensor(16., grad_fn=<PowBackward0>) True\n",
      "tensor(64.) False\n",
      "None\n",
      "tensor(8.)\n",
      "tensor(8.)\n"
     ]
    }
   ],
   "source": [
    "x = torch.tensor(4, requires_grad=True, dtype=torch.float32)\n",
    "y = x ** 2\n",
    "\n",
    "with torch.no_grad():\n",
    "    z = x ** 3\n",
    "\n",
    "print(y, y.requires_grad)\n",
    "print(z, z.requires_grad)\n",
    "print(x.grad)\n",
    "\n",
    "y.backward()\n",
    "print(x.grad)\n",
    "\n",
    "#z.backward()\n",
    "print(x.grad)"
   ]
  },
  {
   "cell_type": "code",
   "execution_count": 83,
   "id": "b1f01e1d",
   "metadata": {},
   "outputs": [
    {
     "name": "stdout",
     "output_type": "stream",
     "text": [
      "tensor(16., grad_fn=<PowBackward0>) tensor(16.)\n"
     ]
    }
   ],
   "source": [
    "y1 = y.detach()\n",
    "print(y, y1)"
   ]
  },
  {
   "cell_type": "code",
   "execution_count": null,
   "id": "725c8e4c",
   "metadata": {},
   "outputs": [
    {
     "data": {
      "text/plain": [
       "False"
      ]
     },
     "execution_count": 86,
     "metadata": {},
     "output_type": "execute_result"
    }
   ],
   "source": [
    "a = torch.tensor(10)\n"
   ]
  }
 ],
 "metadata": {
  "kernelspec": {
   "display_name": "Notebooks-nyz_tjgx",
   "language": "python",
   "name": "python3"
  },
  "language_info": {
   "codemirror_mode": {
    "name": "ipython",
    "version": 3
   },
   "file_extension": ".py",
   "mimetype": "text/x-python",
   "name": "python",
   "nbconvert_exporter": "python",
   "pygments_lexer": "ipython3",
   "version": "3.13.5"
  }
 },
 "nbformat": 4,
 "nbformat_minor": 5
}
